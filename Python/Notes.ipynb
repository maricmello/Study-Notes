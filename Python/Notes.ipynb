{
 "cells": [
  {
   "cell_type": "markdown",
   "id": "c2a226a5",
   "metadata": {},
   "source": [
    "# 🐍 Python – Essential Commands\n",
    "\n",
    "## 📘 Table of Contents\n",
    "1. [🔸 Variables and Data Types](#variables-and-data-types)\n",
    "2. [🔸 Control Structures](#control-structures)\n",
    "3. [🔸 Functions](#functions)\n",
    "4. [🔸 Lists and Dictionaries](#lists-and-dictionaries)"
   ]
  },
  {
   "cell_type": "markdown",
   "id": "5f82c8af",
   "metadata": {},
   "source": [
    "### Variables and Data Types"
   ]
  },
  {
   "cell_type": "code",
   "execution_count": 17,
   "id": "091a6eab",
   "metadata": {},
   "outputs": [],
   "source": [
    "x = 10            # int\n",
    "name = \"Ana\"      # str\n",
    "price = 19.99     # float\n",
    "active = True     # bool"
   ]
  },
  {
   "cell_type": "markdown",
   "id": "89c8fba2",
   "metadata": {},
   "source": [
    "## Control Structures"
   ]
  },
  {
   "cell_type": "code",
   "execution_count": 18,
   "id": "fabf8311",
   "metadata": {},
   "outputs": [
    {
     "name": "stdout",
     "output_type": "stream",
     "text": [
      "Greater than 5\n"
     ]
    }
   ],
   "source": [
    "if x > 5:\n",
    "    print(\"Greater than 5\")\n",
    "else:\n",
    "    print(\"5 or less\")"
   ]
  },
  {
   "cell_type": "code",
   "execution_count": 19,
   "id": "aad4da62",
   "metadata": {},
   "outputs": [
    {
     "name": "stdout",
     "output_type": "stream",
     "text": [
      "0\n",
      "1\n",
      "2\n"
     ]
    }
   ],
   "source": [
    "for i in range(3):\n",
    "    print(i)"
   ]
  },
  {
   "cell_type": "code",
   "execution_count": 20,
   "id": "82fd715e",
   "metadata": {},
   "outputs": [],
   "source": [
    "while x > 0:\n",
    "    x -= 1"
   ]
  },
  {
   "cell_type": "markdown",
   "id": "2ebb4bde",
   "metadata": {},
   "source": [
    "## Functions"
   ]
  },
  {
   "cell_type": "code",
   "execution_count": 21,
   "id": "9e331bfd",
   "metadata": {},
   "outputs": [],
   "source": [
    "def greet(name):\n",
    "    return f\"Hello, {name}\""
   ]
  },
  {
   "cell_type": "markdown",
   "id": "ed911076",
   "metadata": {},
   "source": [
    "## Lists and Dictionaries"
   ]
  },
  {
   "cell_type": "code",
   "execution_count": 22,
   "id": "54dd9854",
   "metadata": {},
   "outputs": [
    {
     "name": "stdout",
     "output_type": "stream",
     "text": [
      "[1, 2, 3, 4]\n",
      "John\n"
     ]
    }
   ],
   "source": [
    "my_list = [1, 2, 3]\n",
    "my_list.append(4)\n",
    "print(my_list)\n",
    "\n",
    "my_dict = {\"name\": \"John\", \"age\": 30}\n",
    "print(my_dict[\"name\"])"
   ]
  }
 ],
 "metadata": {
  "kernelspec": {
   "display_name": "Python 3",
   "language": "python",
   "name": "python3"
  },
  "language_info": {
   "codemirror_mode": {
    "name": "ipython",
    "version": 3
   },
   "file_extension": ".py",
   "mimetype": "text/x-python",
   "name": "python",
   "nbconvert_exporter": "python",
   "pygments_lexer": "ipython3",
   "version": "3.12.6"
  }
 },
 "nbformat": 4,
 "nbformat_minor": 5
}
