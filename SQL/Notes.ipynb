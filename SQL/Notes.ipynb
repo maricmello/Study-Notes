{
 "cells": [
  {
   "cell_type": "markdown",
   "id": "1b54d84c",
   "metadata": {},
   "source": [
    "# 🧠 SQL – Essential Commands\n",
    "\n",
    "## 📘 Table of Contents\n",
    "1. [🔸 Selecting Data](#-selecting-data)\n",
    "2. [🔸 Filtering](#-filtering)\n",
    "3. [🔸 Aggregation and Grouping](#-aggregation-and-grouping)\n",
    "4. [🔸 Subqueries](#-subqueries)"
   ]
  },
  {
   "cell_type": "markdown",
   "id": "6f67acfb",
   "metadata": {},
   "source": [
    "## Selecting Data"
   ]
  },
  {
   "cell_type": "code",
   "execution_count": null,
   "id": "55ee0d12",
   "metadata": {
    "vscode": {
     "languageId": "plaintext"
    }
   },
   "outputs": [],
   "source": [
    "SELECT * FROM table;\n",
    "SELECT name, age FROM customers;"
   ]
  },
  {
   "cell_type": "markdown",
   "id": "29248061",
   "metadata": {},
   "source": [
    "## Filtering"
   ]
  },
  {
   "cell_type": "code",
   "execution_count": null,
   "id": "e9a014e8",
   "metadata": {
    "vscode": {
     "languageId": "plaintext"
    }
   },
   "outputs": [],
   "source": [
    "SELECT * FROM sales WHERE amount > 100;\n",
    "SELECT * FROM products WHERE name LIKE 'A%';"
   ]
  },
  {
   "cell_type": "markdown",
   "id": "99dbcbf8",
   "metadata": {},
   "source": [
    "## Joins"
   ]
  },
  {
   "cell_type": "code",
   "execution_count": null,
   "id": "d56a6216",
   "metadata": {
    "vscode": {
     "languageId": "plaintext"
    }
   },
   "outputs": [],
   "source": [
    "SELECT a.name, b.sale\n",
    "FROM customers a\n",
    "JOIN sales b ON a.id = b.customer_id;"
   ]
  },
  {
   "cell_type": "markdown",
   "id": "4ac2ef58",
   "metadata": {},
   "source": [
    "## Aggregation and Grouping"
   ]
  },
  {
   "cell_type": "code",
   "execution_count": null,
   "id": "ffa9dcd0",
   "metadata": {
    "vscode": {
     "languageId": "plaintext"
    }
   },
   "outputs": [],
   "source": [
    "SELECT category, COUNT(*) FROM products\n",
    "GROUP BY category;\n",
    "\n",
    "SELECT customer_id, SUM(amount) FROM sales\n",
    "GROUP BY customer_id;"
   ]
  },
  {
   "cell_type": "markdown",
   "id": "c10c1869",
   "metadata": {},
   "source": [
    "## Subqueries"
   ]
  },
  {
   "cell_type": "code",
   "execution_count": null,
   "id": "cbf96156",
   "metadata": {
    "vscode": {
     "languageId": "plaintext"
    }
   },
   "outputs": [],
   "source": [
    "SELECT name FROM customers\n",
    "WHERE id IN (SELECT customer_id FROM sales WHERE amount > 500);"
   ]
  }
 ],
 "metadata": {
  "language_info": {
   "name": "python"
  }
 },
 "nbformat": 4,
 "nbformat_minor": 5
}
