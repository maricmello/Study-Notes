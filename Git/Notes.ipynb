{
 "cells": [
  {
   "cell_type": "markdown",
   "id": "0cba314e",
   "metadata": {},
   "source": [
    "# 🌱 Git – Basic Workflow\n",
    "\n",
    "## 📘 Table of Contents\n",
    "1. [🔧 Initial Configuration](#-initial-configuration)\n",
    "2. [📄 Essential Commands](#-essential-commands)\n",
    "3. [🌿 Branching](#-branching)"
   ]
  },
  {
   "cell_type": "markdown",
   "id": "73fbd474",
   "metadata": {},
   "source": [
    "## Initial Configuration"
   ]
  },
  {
   "cell_type": "code",
   "execution_count": null,
   "id": "b78350b1",
   "metadata": {
    "vscode": {
     "languageId": "plaintext"
    }
   },
   "outputs": [],
   "source": [
    "git config --global user.name \"Seu Nome\"\n",
    "git config --global user.email \"seu@email.com\""
   ]
  },
  {
   "cell_type": "markdown",
   "id": "7fa38173",
   "metadata": {},
   "source": [
    "## Essential Commands"
   ]
  },
  {
   "cell_type": "code",
   "execution_count": null,
   "id": "c9dee9fb",
   "metadata": {
    "vscode": {
     "languageId": "plaintext"
    }
   },
   "outputs": [],
   "source": [
    "git init                       # Initialize repository\n",
    "git clone <url>               # Clone remote repository\n",
    "git status                    # Check file status\n",
    "git add .                     # Add all changes\n",
    "git commit -m \"message\"       # Commit with message\n",
    "git push origin main          # Push to remote\n",
    "git pull origin main          # Pull updates"
   ]
  },
  {
   "cell_type": "markdown",
   "id": "cab15957",
   "metadata": {},
   "source": [
    "## Branching"
   ]
  },
  {
   "cell_type": "code",
   "execution_count": null,
   "id": "e5ac6034",
   "metadata": {
    "vscode": {
     "languageId": "plaintext"
    }
   },
   "outputs": [],
   "source": [
    "git branch new-branch\n",
    "git checkout new-branch\n",
    "git merge new-branch"
   ]
  }
 ],
 "metadata": {
  "language_info": {
   "name": "python"
  }
 },
 "nbformat": 4,
 "nbformat_minor": 5
}
