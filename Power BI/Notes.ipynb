{
 "cells": [
  {
   "cell_type": "markdown",
   "id": "f805553a",
   "metadata": {},
   "source": [
    "# 📊 Power BI – DAX and Power Query\n",
    "\n",
    "## 📘 Table of Contents\n",
    "1. [🔸 Common Formulas](#common-formulas)\n",
    "2. [🔸 M Language Basics](#m-language-basics)"
   ]
  },
  {
   "cell_type": "markdown",
   "id": "198cd356",
   "metadata": {},
   "source": [
    "## Common Formulas"
   ]
  },
  {
   "cell_type": "code",
   "execution_count": null,
   "id": "47e96ace",
   "metadata": {},
   "outputs": [],
   "source": [
    "Total Sales = SUM(Sales[Amount])\n",
    "Average Sales = AVERAGE(Sales[Amount])\n",
    "Sales Count = COUNT(Sales[ID])\n",
    "\n",
    "% Growth = \n",
    "VAR last_year = CALCULATE(SUM(Sales[Amount]), PREVIOUSYEAR(Dates[Date]))\n",
    "RETURN DIVIDE(SUM(Sales[Amount]) - last_year, last_year)\n"
   ]
  },
  {
   "cell_type": "markdown",
   "id": "dc548de4",
   "metadata": {},
   "source": [
    "## M Language Basics"
   ]
  },
  {
   "cell_type": "code",
   "execution_count": null,
   "id": "7c0141d3",
   "metadata": {},
   "outputs": [],
   "source": [
    "= Table.SelectRows(Table, each [Age] > 18)\n",
    "= Table.AddColumn(Table, \"Year\", each Date.Year([Date]))"
   ]
  }
 ],
 "metadata": {
  "kernelspec": {
   "display_name": "Python 3",
   "language": "python",
   "name": "python3"
  },
  "language_info": {
   "codemirror_mode": {
    "name": "ipython",
    "version": 3
   },
   "file_extension": ".py",
   "mimetype": "text/x-python",
   "name": "python",
   "nbconvert_exporter": "python",
   "pygments_lexer": "ipython3",
   "version": "3.12.6"
  }
 },
 "nbformat": 4,
 "nbformat_minor": 5
}
